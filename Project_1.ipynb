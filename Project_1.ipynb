{
 "cells": [
  {
   "cell_type": "markdown",
   "metadata": {},
   "source": [
    "## Project 1 : Query Project\n",
    "\n",
    "The goal of this project was to determine potential marketing offers that could increase ridership for Lyft Bay Wheels in the San Francisco Bay Area. By analyzing the `san_francisco` public SQL dataset containing ridership data on Lyft Bay Wheels hosted on Google BigQuery, the aim was to detect any trends or gaps that could be leveraged towards developing new offers or tailoring existing ones to attract more customers. \n",
    "\n",
    "The following tables from the `san_francisco` dataset were used in the analysis:\n",
    "- bikeshare_stations\n",
    "- bikeshare_status\n",
    "- bikeshare_trips\n",
    "\n",
    "*Note: Code for all intermediary views that were created and used in SQL queries are included in the Appendix*"
   ]
  },
  {
   "cell_type": "code",
   "execution_count": 3,
   "metadata": {},
   "outputs": [],
   "source": [
    "# Matplotlib will be used for data visualizations\n",
    "import matplotlib.pyplot as plt\n",
    "import numpy as np\n",
    "\n",
    "%matplotlib inline"
   ]
  },
  {
   "cell_type": "markdown",
   "metadata": {},
   "source": [
    "### What are the 5 most popular trips that you would call \"commuter trips\"?"
   ]
  },
  {
   "cell_type": "markdown",
   "metadata": {},
   "source": [
    "Through the analysis, it was determined that \"commuter trips\" make up a significant portion of the ridership in the Bay Area, and as a result the data around these types of trips was analyzed for trends, patterns, and gaps. \"Commuter trips\" are trips that satisfy the following condtions:\n",
    "1. The trip occurs during the week (Monday, Tuesday, Wednesday, Thursday, or Friday)\n",
    "2. The start of the trip takes place during \"commuting hours\", which are defined as between 7:00-9:59 and 16:00-18:59 PST\n",
    "3. The station from which the trip starts and the station at which the trip ends are not the same"
   ]
  },
  {
   "cell_type": "markdown",
   "metadata": {},
   "source": [
    "In the cell below, the bigquery magic command is used to fetch data from a previously created `commuter_trips` view and store it into a dataframe. The `commuter_trips` view stores details of all trips within the `bikeshare_trips` table that meet the first two conditions above."
   ]
  },
  {
   "cell_type": "code",
   "execution_count": 1,
   "metadata": {},
   "outputs": [],
   "source": [
    "%%bigquery df_commuter_trips\n",
    "\n",
    "SELECT start_station_name, end_station_name, COUNT(trip_id) AS num_trips,\n",
    "FROM `w205-project-300900.bike_trip_data.commuter_trips`\n",
    "WHERE start_station_name <> end_station_name\n",
    "GROUP BY start_station_name, end_station_name\n",
    "ORDER BY num_trips DESC;"
   ]
  },
  {
   "cell_type": "markdown",
   "metadata": {},
   "source": [
    "Next, the first 10 rows of the dataframe are previewed. It can see that many of the trips are inverses of one another, denoting that there are certain stations that are very popular."
   ]
  },
  {
   "cell_type": "code",
   "execution_count": 5,
   "metadata": {},
   "outputs": [
    {
     "data": {
      "text/html": [
       "<div>\n",
       "<style scoped>\n",
       "    .dataframe tbody tr th:only-of-type {\n",
       "        vertical-align: middle;\n",
       "    }\n",
       "\n",
       "    .dataframe tbody tr th {\n",
       "        vertical-align: top;\n",
       "    }\n",
       "\n",
       "    .dataframe thead th {\n",
       "        text-align: right;\n",
       "    }\n",
       "</style>\n",
       "<table border=\"1\" class=\"dataframe\">\n",
       "  <thead>\n",
       "    <tr style=\"text-align: right;\">\n",
       "      <th></th>\n",
       "      <th>start_station_name</th>\n",
       "      <th>end_station_name</th>\n",
       "      <th>num_trips</th>\n",
       "    </tr>\n",
       "  </thead>\n",
       "  <tbody>\n",
       "    <tr>\n",
       "      <th>0</th>\n",
       "      <td>2nd at Townsend</td>\n",
       "      <td>Harry Bridges Plaza (Ferry Building)</td>\n",
       "      <td>5165</td>\n",
       "    </tr>\n",
       "    <tr>\n",
       "      <th>1</th>\n",
       "      <td>Harry Bridges Plaza (Ferry Building)</td>\n",
       "      <td>2nd at Townsend</td>\n",
       "      <td>5127</td>\n",
       "    </tr>\n",
       "    <tr>\n",
       "      <th>2</th>\n",
       "      <td>San Francisco Caltrain 2 (330 Townsend)</td>\n",
       "      <td>Townsend at 7th</td>\n",
       "      <td>5040</td>\n",
       "    </tr>\n",
       "    <tr>\n",
       "      <th>3</th>\n",
       "      <td>Embarcadero at Sansome</td>\n",
       "      <td>Steuart at Market</td>\n",
       "      <td>4904</td>\n",
       "    </tr>\n",
       "    <tr>\n",
       "      <th>4</th>\n",
       "      <td>Embarcadero at Folsom</td>\n",
       "      <td>San Francisco Caltrain (Townsend at 4th)</td>\n",
       "      <td>4756</td>\n",
       "    </tr>\n",
       "    <tr>\n",
       "      <th>5</th>\n",
       "      <td>San Francisco Caltrain (Townsend at 4th)</td>\n",
       "      <td>Harry Bridges Plaza (Ferry Building)</td>\n",
       "      <td>4689</td>\n",
       "    </tr>\n",
       "    <tr>\n",
       "      <th>6</th>\n",
       "      <td>Steuart at Market</td>\n",
       "      <td>2nd at Townsend</td>\n",
       "      <td>4632</td>\n",
       "    </tr>\n",
       "    <tr>\n",
       "      <th>7</th>\n",
       "      <td>Temporary Transbay Terminal (Howard at Beale)</td>\n",
       "      <td>San Francisco Caltrain (Townsend at 4th)</td>\n",
       "      <td>4584</td>\n",
       "    </tr>\n",
       "    <tr>\n",
       "      <th>8</th>\n",
       "      <td>Steuart at Market</td>\n",
       "      <td>San Francisco Caltrain (Townsend at 4th)</td>\n",
       "      <td>4509</td>\n",
       "    </tr>\n",
       "    <tr>\n",
       "      <th>9</th>\n",
       "      <td>Townsend at 7th</td>\n",
       "      <td>San Francisco Caltrain 2 (330 Townsend)</td>\n",
       "      <td>4258</td>\n",
       "    </tr>\n",
       "  </tbody>\n",
       "</table>\n",
       "</div>"
      ],
      "text/plain": [
       "                              start_station_name  \\\n",
       "0                                2nd at Townsend   \n",
       "1           Harry Bridges Plaza (Ferry Building)   \n",
       "2        San Francisco Caltrain 2 (330 Townsend)   \n",
       "3                         Embarcadero at Sansome   \n",
       "4                          Embarcadero at Folsom   \n",
       "5       San Francisco Caltrain (Townsend at 4th)   \n",
       "6                              Steuart at Market   \n",
       "7  Temporary Transbay Terminal (Howard at Beale)   \n",
       "8                              Steuart at Market   \n",
       "9                                Townsend at 7th   \n",
       "\n",
       "                           end_station_name  num_trips  \n",
       "0      Harry Bridges Plaza (Ferry Building)       5165  \n",
       "1                           2nd at Townsend       5127  \n",
       "2                           Townsend at 7th       5040  \n",
       "3                         Steuart at Market       4904  \n",
       "4  San Francisco Caltrain (Townsend at 4th)       4756  \n",
       "5      Harry Bridges Plaza (Ferry Building)       4689  \n",
       "6                           2nd at Townsend       4632  \n",
       "7  San Francisco Caltrain (Townsend at 4th)       4584  \n",
       "8  San Francisco Caltrain (Townsend at 4th)       4509  \n",
       "9   San Francisco Caltrain 2 (330 Townsend)       4258  "
      ]
     },
     "execution_count": 5,
     "metadata": {},
     "output_type": "execute_result"
    }
   ],
   "source": [
    "df_commuter_trips.head(10)"
   ]
  },
  {
   "cell_type": "markdown",
   "metadata": {},
   "source": [
    "Given that many of the most popular trips are simply the reverse leg of one another, these station pairs can be grouped together to find the top 5 most popular \"commuter trips\". In the cell below, another SQL bigquery is used to combine trips that are simply inverses of one another and the add together their number of trips."
   ]
  },
  {
   "cell_type": "code",
   "execution_count": 10,
   "metadata": {},
   "outputs": [],
   "source": [
    "%%bigquery df_top_trips\n",
    "\n",
    "SELECT t.start_station_name AS station1, t.end_station_name AS station2, t.total_trips \n",
    "FROM(\n",
    "    WITH top_pairs AS(\n",
    "        SELECT start_station_name, end_station_name, COUNT(trip_id) AS num_trips,\n",
    "        FROM `w205-project-300900.bike_trip_data.commuter_trips`\n",
    "        WHERE start_station_name <> end_station_name\n",
    "        GROUP BY start_station_name, end_station_name\n",
    "        ORDER BY num_trips DESC)\n",
    "    SELECT t1.num_trips + t2.num_trips AS total_trips, t1.start_station_name, t1.end_station_name,\n",
    "        ROW_NUMBER() OVER (ORDER BY t1.num_trips + t2.num_trips DESC) AS rownum\n",
    "    FROM top_pairs t1, top_pairs t2\n",
    "    WHERE t1.start_station_name = t2.end_station_name\n",
    "    AND t1.end_station_name = t2.start_station_name) AS t\n",
    "WHERE MOD(t.rownum,2) = 1\n",
    "ORDER BY total_trips DESC;"
   ]
  },
  {
   "cell_type": "code",
   "execution_count": 13,
   "metadata": {},
   "outputs": [
    {
     "data": {
      "text/html": [
       "<div>\n",
       "<style scoped>\n",
       "    .dataframe tbody tr th:only-of-type {\n",
       "        vertical-align: middle;\n",
       "    }\n",
       "\n",
       "    .dataframe tbody tr th {\n",
       "        vertical-align: top;\n",
       "    }\n",
       "\n",
       "    .dataframe thead th {\n",
       "        text-align: right;\n",
       "    }\n",
       "</style>\n",
       "<table border=\"1\" class=\"dataframe\">\n",
       "  <thead>\n",
       "    <tr style=\"text-align: right;\">\n",
       "      <th></th>\n",
       "      <th>station1</th>\n",
       "      <th>station2</th>\n",
       "      <th>total_trips</th>\n",
       "    </tr>\n",
       "  </thead>\n",
       "  <tbody>\n",
       "    <tr>\n",
       "      <th>0</th>\n",
       "      <td>Harry Bridges Plaza (Ferry Building)</td>\n",
       "      <td>2nd at Townsend</td>\n",
       "      <td>10292</td>\n",
       "    </tr>\n",
       "    <tr>\n",
       "      <th>1</th>\n",
       "      <td>San Francisco Caltrain 2 (330 Townsend)</td>\n",
       "      <td>Townsend at 7th</td>\n",
       "      <td>9298</td>\n",
       "    </tr>\n",
       "    <tr>\n",
       "      <th>2</th>\n",
       "      <td>San Francisco Caltrain (Townsend at 4th)</td>\n",
       "      <td>Embarcadero at Folsom</td>\n",
       "      <td>8539</td>\n",
       "    </tr>\n",
       "    <tr>\n",
       "      <th>3</th>\n",
       "      <td>San Francisco Caltrain (Townsend at 4th)</td>\n",
       "      <td>Harry Bridges Plaza (Ferry Building)</td>\n",
       "      <td>8416</td>\n",
       "    </tr>\n",
       "    <tr>\n",
       "      <th>4</th>\n",
       "      <td>Embarcadero at Sansome</td>\n",
       "      <td>Steuart at Market</td>\n",
       "      <td>8324</td>\n",
       "    </tr>\n",
       "  </tbody>\n",
       "</table>\n",
       "</div>"
      ],
      "text/plain": [
       "                                   station1  \\\n",
       "0      Harry Bridges Plaza (Ferry Building)   \n",
       "1   San Francisco Caltrain 2 (330 Townsend)   \n",
       "2  San Francisco Caltrain (Townsend at 4th)   \n",
       "3  San Francisco Caltrain (Townsend at 4th)   \n",
       "4                    Embarcadero at Sansome   \n",
       "\n",
       "                               station2  total_trips  \n",
       "0                       2nd at Townsend        10292  \n",
       "1                       Townsend at 7th         9298  \n",
       "2                 Embarcadero at Folsom         8539  \n",
       "3  Harry Bridges Plaza (Ferry Building)         8416  \n",
       "4                     Steuart at Market         8324  "
      ]
     },
     "execution_count": 13,
     "metadata": {},
     "output_type": "execute_result"
    }
   ],
   "source": [
    "df_top_trips.head(5)"
   ]
  },
  {
   "cell_type": "markdown",
   "metadata": {},
   "source": [
    "With the data above, a bar chart was plotted to show a visualization of the top 5 most popular trips."
   ]
  },
  {
   "cell_type": "code",
   "execution_count": 71,
   "metadata": {},
   "outputs": [
    {
     "data": {
      "image/png": "[encoded data removed]",
      "text/plain": [
       "<Figure size 720x432 with 1 Axes>"
      ]
     },
     "metadata": {
      "needs_background": "light"
     },
     "output_type": "display_data"
    }
   ],
   "source": [
    "# Combine the names of the station pairs into strings to label the graph\n",
    "top5_pairs = 'A. ' + df_top_trips['station1'][:5] + '\\nB. ' + df_top_trips['station2'][:5]\n",
    "\n",
    "# Plot the bar plot\n",
    "plt.figure(figsize=(10,6))\n",
    "plt.bar(top5_pairs, df_top_trips['total_trips'][:5])\n",
    "plt.title(\"Top 5 Most Popular Commuter Trips in the Bay Area by Station Pair\")\n",
    "plt.xticks(rotation=45, ha='right')\n",
    "plt.ylabel(\"Number of commuter trips\")\n",
    "plt.show()"
   ]
  },
  {
   "cell_type": "markdown",
   "metadata": {},
   "source": [
    "### What are your recommendations for offers?"
   ]
  },
  {
   "cell_type": "markdown",
   "metadata": {},
   "source": [
    "After the \"commuter trips\" were identified, this subset of trips was further examined in order to pinpoint cases were ridership could be increased with different marketing offers to these riders. Based on this analysis, two recommendations for potential marketing offers were determined as listed below."
   ]
  },
  {
   "cell_type": "markdown",
   "metadata": {},
   "source": [
    "#### Recommendation 1: Offer discounted rides for \"commuter trips\" for new subscribers to a membership trial"
   ]
  },
  {
   "cell_type": "markdown",
   "metadata": {},
   "source": [
    "The basis for this offer was discovered when investigating the availability of bikes at the popular stations during the hours of \"commuter trips\". To reiterate, the rides considered to be a \"commuter trip\" are any rides that occur between Monday-Friday, with the trip starting from anytime between 7:00-9:59 or 16:00-18:59.\n",
    "\n",
    "In the query below, a search is conducted for the average number of available bikes among the stations in top 10 most popular \"commuter trips\" that was displayed earlier in the notebook. The `station_status` table is joined with the top 10 most popular trips from the `commuter_trips` table in order to check the status of bike avaibility at these stations.\n",
    "\n",
    "Within the top 10 most popular \"commuter trips\", there are 9 distinct stations, and the availability of bikes is broken out into the following subcategories per station:\n",
    "- Commuter Trip Hours - Morning (average availability between 7:00-10:00)\n",
    "- Commuter Trip Hours - Night (average availability between 16:00-19:00). "
   ]
  },
  {
   "cell_type": "code",
   "execution_count": 1,
   "metadata": {},
   "outputs": [],
   "source": [
    " %%bigquery df_top10_bike_avail\n",
    "\n",
    "SELECT station_id, start_station_name, \n",
    "    CASE\n",
    "        WHEN (hour BETWEEN 7 AND 9) THEN 'Commuter Trip Hours - Morning'\n",
    "        ELSE 'Commuter Trip Hours - Night'\n",
    "    END AS trip_type,\n",
    "    CAST(ROUND(AVG(bikes_available)) AS INT64) avg_bikes, \n",
    "FROM `w205-project-300900.bike_trip_data.station_status` AS stat\n",
    "LEFT JOIN (\n",
    "    WITH top10 AS(\n",
    "        SELECT start_station_name, start_station_id, end_station_name, end_station_id, COUNT(trip_id) AS num_trips,\n",
    "        FROM `w205-project-300900.bike_trip_data.commuter_trips`\n",
    "        GROUP BY start_station_name, start_station_id, end_station_name, end_station_id\n",
    "        ORDER BY num_trips DESC\n",
    "        LIMIT 10)\n",
    "    SELECT top10.start_station_name, top10.start_station_id FROM top10\n",
    "    UNION DISTINCT\n",
    "    SELECT top10.end_station_name, top10.end_station_id FROM top10) top10\n",
    "ON stat.station_id = top10.start_station_id\n",
    "WHERE station_id IN (top10.start_station_id)\n",
    "    AND dow_str IN ('Monday', 'Tuesday', 'Wednesday', 'Thursday', 'Friday')\n",
    "    AND hour IN (7,8,9,16,17,18)\n",
    "GROUP BY station_id, start_station_name, trip_type\n",
    "ORDER BY station_id, trip_type;"
   ]
  },
  {
   "cell_type": "code",
   "execution_count": 2,
   "metadata": {},
   "outputs": [
    {
     "data": {
      "text/html": [
       "<div>\n",
       "<style scoped>\n",
       "    .dataframe tbody tr th:only-of-type {\n",
       "        vertical-align: middle;\n",
       "    }\n",
       "\n",
       "    .dataframe tbody tr th {\n",
       "        vertical-align: top;\n",
       "    }\n",
       "\n",
       "    .dataframe thead th {\n",
       "        text-align: right;\n",
       "    }\n",
       "</style>\n",
       "<table border=\"1\" class=\"dataframe\">\n",
       "  <thead>\n",
       "    <tr style=\"text-align: right;\">\n",
       "      <th></th>\n",
       "      <th>station_id</th>\n",
       "      <th>start_station_name</th>\n",
       "      <th>trip_type</th>\n",
       "      <th>avg_bikes</th>\n",
       "    </tr>\n",
       "  </thead>\n",
       "  <tbody>\n",
       "    <tr>\n",
       "      <th>0</th>\n",
       "      <td>50</td>\n",
       "      <td>Harry Bridges Plaza (Ferry Building)</td>\n",
       "      <td>Commuter Trip Hours - Morning</td>\n",
       "      <td>11</td>\n",
       "    </tr>\n",
       "    <tr>\n",
       "      <th>1</th>\n",
       "      <td>50</td>\n",
       "      <td>Harry Bridges Plaza (Ferry Building)</td>\n",
       "      <td>Commuter Trip Hours - Night</td>\n",
       "      <td>14</td>\n",
       "    </tr>\n",
       "    <tr>\n",
       "      <th>2</th>\n",
       "      <td>51</td>\n",
       "      <td>Embarcadero at Folsom</td>\n",
       "      <td>Commuter Trip Hours - Morning</td>\n",
       "      <td>8</td>\n",
       "    </tr>\n",
       "    <tr>\n",
       "      <th>3</th>\n",
       "      <td>51</td>\n",
       "      <td>Embarcadero at Folsom</td>\n",
       "      <td>Commuter Trip Hours - Night</td>\n",
       "      <td>7</td>\n",
       "    </tr>\n",
       "    <tr>\n",
       "      <th>4</th>\n",
       "      <td>55</td>\n",
       "      <td>Temporary Transbay Terminal (Howard at Beale)</td>\n",
       "      <td>Commuter Trip Hours - Morning</td>\n",
       "      <td>9</td>\n",
       "    </tr>\n",
       "    <tr>\n",
       "      <th>5</th>\n",
       "      <td>55</td>\n",
       "      <td>Temporary Transbay Terminal (Howard at Beale)</td>\n",
       "      <td>Commuter Trip Hours - Night</td>\n",
       "      <td>10</td>\n",
       "    </tr>\n",
       "    <tr>\n",
       "      <th>6</th>\n",
       "      <td>60</td>\n",
       "      <td>Embarcadero at Sansome</td>\n",
       "      <td>Commuter Trip Hours - Morning</td>\n",
       "      <td>6</td>\n",
       "    </tr>\n",
       "    <tr>\n",
       "      <th>7</th>\n",
       "      <td>60</td>\n",
       "      <td>Embarcadero at Sansome</td>\n",
       "      <td>Commuter Trip Hours - Night</td>\n",
       "      <td>6</td>\n",
       "    </tr>\n",
       "    <tr>\n",
       "      <th>8</th>\n",
       "      <td>61</td>\n",
       "      <td>2nd at Townsend</td>\n",
       "      <td>Commuter Trip Hours - Morning</td>\n",
       "      <td>12</td>\n",
       "    </tr>\n",
       "    <tr>\n",
       "      <th>9</th>\n",
       "      <td>61</td>\n",
       "      <td>2nd at Townsend</td>\n",
       "      <td>Commuter Trip Hours - Night</td>\n",
       "      <td>12</td>\n",
       "    </tr>\n",
       "    <tr>\n",
       "      <th>10</th>\n",
       "      <td>65</td>\n",
       "      <td>Townsend at 7th</td>\n",
       "      <td>Commuter Trip Hours - Morning</td>\n",
       "      <td>7</td>\n",
       "    </tr>\n",
       "    <tr>\n",
       "      <th>11</th>\n",
       "      <td>65</td>\n",
       "      <td>Townsend at 7th</td>\n",
       "      <td>Commuter Trip Hours - Night</td>\n",
       "      <td>6</td>\n",
       "    </tr>\n",
       "    <tr>\n",
       "      <th>12</th>\n",
       "      <td>69</td>\n",
       "      <td>San Francisco Caltrain 2 (330 Townsend)</td>\n",
       "      <td>Commuter Trip Hours - Morning</td>\n",
       "      <td>12</td>\n",
       "    </tr>\n",
       "    <tr>\n",
       "      <th>13</th>\n",
       "      <td>69</td>\n",
       "      <td>San Francisco Caltrain 2 (330 Townsend)</td>\n",
       "      <td>Commuter Trip Hours - Night</td>\n",
       "      <td>10</td>\n",
       "    </tr>\n",
       "    <tr>\n",
       "      <th>14</th>\n",
       "      <td>70</td>\n",
       "      <td>San Francisco Caltrain (Townsend at 4th)</td>\n",
       "      <td>Commuter Trip Hours - Morning</td>\n",
       "      <td>7</td>\n",
       "    </tr>\n",
       "    <tr>\n",
       "      <th>15</th>\n",
       "      <td>70</td>\n",
       "      <td>San Francisco Caltrain (Townsend at 4th)</td>\n",
       "      <td>Commuter Trip Hours - Night</td>\n",
       "      <td>12</td>\n",
       "    </tr>\n",
       "    <tr>\n",
       "      <th>16</th>\n",
       "      <td>74</td>\n",
       "      <td>Steuart at Market</td>\n",
       "      <td>Commuter Trip Hours - Morning</td>\n",
       "      <td>11</td>\n",
       "    </tr>\n",
       "    <tr>\n",
       "      <th>17</th>\n",
       "      <td>74</td>\n",
       "      <td>Steuart at Market</td>\n",
       "      <td>Commuter Trip Hours - Night</td>\n",
       "      <td>9</td>\n",
       "    </tr>\n",
       "  </tbody>\n",
       "</table>\n",
       "</div>"
      ],
      "text/plain": [
       "    station_id                             start_station_name  \\\n",
       "0           50           Harry Bridges Plaza (Ferry Building)   \n",
       "1           50           Harry Bridges Plaza (Ferry Building)   \n",
       "2           51                          Embarcadero at Folsom   \n",
       "3           51                          Embarcadero at Folsom   \n",
       "4           55  Temporary Transbay Terminal (Howard at Beale)   \n",
       "5           55  Temporary Transbay Terminal (Howard at Beale)   \n",
       "6           60                         Embarcadero at Sansome   \n",
       "7           60                         Embarcadero at Sansome   \n",
       "8           61                                2nd at Townsend   \n",
       "9           61                                2nd at Townsend   \n",
       "10          65                                Townsend at 7th   \n",
       "11          65                                Townsend at 7th   \n",
       "12          69        San Francisco Caltrain 2 (330 Townsend)   \n",
       "13          69        San Francisco Caltrain 2 (330 Townsend)   \n",
       "14          70       San Francisco Caltrain (Townsend at 4th)   \n",
       "15          70       San Francisco Caltrain (Townsend at 4th)   \n",
       "16          74                              Steuart at Market   \n",
       "17          74                              Steuart at Market   \n",
       "\n",
       "                        trip_type  avg_bikes  \n",
       "0   Commuter Trip Hours - Morning         11  \n",
       "1     Commuter Trip Hours - Night         14  \n",
       "2   Commuter Trip Hours - Morning          8  \n",
       "3     Commuter Trip Hours - Night          7  \n",
       "4   Commuter Trip Hours - Morning          9  \n",
       "5     Commuter Trip Hours - Night         10  \n",
       "6   Commuter Trip Hours - Morning          6  \n",
       "7     Commuter Trip Hours - Night          6  \n",
       "8   Commuter Trip Hours - Morning         12  \n",
       "9     Commuter Trip Hours - Night         12  \n",
       "10  Commuter Trip Hours - Morning          7  \n",
       "11    Commuter Trip Hours - Night          6  \n",
       "12  Commuter Trip Hours - Morning         12  \n",
       "13    Commuter Trip Hours - Night         10  \n",
       "14  Commuter Trip Hours - Morning          7  \n",
       "15    Commuter Trip Hours - Night         12  \n",
       "16  Commuter Trip Hours - Morning         11  \n",
       "17    Commuter Trip Hours - Night          9  "
      ]
     },
     "execution_count": 2,
     "metadata": {},
     "output_type": "execute_result"
    }
   ],
   "source": [
    "df_top10_bike_avail"
   ]
  },
  {
   "cell_type": "markdown",
   "metadata": {},
   "source": [
    "Using the table above, we can plot the average availability of bikes by morning hours and night hours for each station."
   ]
  },
  {
   "cell_type": "code",
   "execution_count": 34,
   "metadata": {},
   "outputs": [
    {
     "data": {
      "image/png": "[encoded data removed]",
      "text/plain": [
       "<Figure size 720x720 with 1 Axes>"
      ]
     },
     "metadata": {
      "needs_background": "light"
     },
     "output_type": "display_data"
    }
   ],
   "source": [
    "# Retrieve the station labels and the corresponding morning and night bike availability\n",
    "stations = np.unique(df_top10_bike_avail['start_station_name'])\n",
    "morning_avail = df_top10_bike_avail[df_top10_bike_avail['trip_type'] == 'Commuter Trip Hours - Morning']['avg_bikes']\n",
    "night_avail = df_top10_bike_avail[df_top10_bike_avail['trip_type'] == 'Commuter Trip Hours - Night']['avg_bikes']\n",
    "\n",
    "# Create bar locations and set the bar width\n",
    "x = np.arange(len(stations))  \n",
    "width = 0.35\n",
    "\n",
    "# Create the bar plots\n",
    "plt.figure(figsize=(10,10))\n",
    "plt.bar(x-width/2, morning_avail, width, label='Morning (7:00-10:00)')\n",
    "plt.bar(x+width/2, night_avail, width, label='Night (16:00-19:00)')\n",
    "\n",
    "# Add the labels and legend\n",
    "plt.title(\"Average Availability of Bikes During Commuter Hours at the 9 Most Popular Stations\")\n",
    "plt.ylabel(\"Average availability\")\n",
    "plt.xticks(x, stations, rotation=30, ha='right')\n",
    "plt.legend()\n",
    "\n",
    "plt.show()"
   ]
  },
  {
   "cell_type": "markdown",
   "metadata": {},
   "source": [
    "As can be seen from the chart above, it is clear that on average, many of the popular commuter stations still have a lot of bikes available and not in use during the \"commuter trips\" hours. Therefore, in order to take advantage of this surplus of bikes at stations which are common origin and destinations for these \"commuter trips\", it is recommended to offer discounted \"commuter trip\" rides for new subscribers to a limited period trial membership subscription. "
   ]
  },
  {
   "cell_type": "markdown",
   "metadata": {},
   "source": [
    "#### Recommendation 2: Offer 5 free weekend rentals for new membership subscribers\n",
    "\n",
    "In general, being able to count on a recurring subscription revenue as opposed to an on-demand revenue is likely preferred by Lyft Bay Wheels. Therefore, one method to increase the subscription revenue would be to convert existing \"casual\" riders into those with subscription memberships.\n",
    "\n",
    "Within the dataset, there are two types of customers based on the rider's membership status. The customer types are described as follows:\n",
    "\n",
    "- Subscriber: A member with an annual or 30-day subscription\n",
    "- Customer: A casual rider who rides on demand, or with a 24-hour or 3-day subscription\n"
   ]
  },
  {
   "cell_type": "markdown",
   "metadata": {},
   "source": [
    "To understand how to convert these Customers into Subscribers, some analysis was performed to observe the difference in behavior of the two groups. First, when reviewing the customer types breakdown within the \"commuter trips\" rides, it was noted that a large majority of those who take these \"commuter trips\" were Subscribers as opposed to Customers. This query below shows this breakdown."
   ]
  },
  {
   "cell_type": "code",
   "execution_count": 35,
   "metadata": {},
   "outputs": [],
   "source": [
    " %%bigquery df_commuter_sub_type\n",
    "\n",
    "SELECT subscriber_type, COUNT(*) AS num_trips\n",
    "FROM `w205-project-300900.bike_trip_data.commuter_trips` \n",
    "WHERE start_dow_str IN ('Monday', 'Tuesday', 'Wednesday', 'Thursday', 'Friday') \n",
    "AND start_hour IN (7, 8, 9, 16, 17, 18)\n",
    "GROUP BY subscriber_type;"
   ]
  },
  {
   "cell_type": "code",
   "execution_count": 36,
   "metadata": {},
   "outputs": [
    {
     "data": {
      "text/html": [
       "<div>\n",
       "<style scoped>\n",
       "    .dataframe tbody tr th:only-of-type {\n",
       "        vertical-align: middle;\n",
       "    }\n",
       "\n",
       "    .dataframe tbody tr th {\n",
       "        vertical-align: top;\n",
       "    }\n",
       "\n",
       "    .dataframe thead th {\n",
       "        text-align: right;\n",
       "    }\n",
       "</style>\n",
       "<table border=\"1\" class=\"dataframe\">\n",
       "  <thead>\n",
       "    <tr style=\"text-align: right;\">\n",
       "      <th></th>\n",
       "      <th>subscriber_type</th>\n",
       "      <th>num_trips</th>\n",
       "    </tr>\n",
       "  </thead>\n",
       "  <tbody>\n",
       "    <tr>\n",
       "      <th>0</th>\n",
       "      <td>Customer</td>\n",
       "      <td>30812</td>\n",
       "    </tr>\n",
       "    <tr>\n",
       "      <th>1</th>\n",
       "      <td>Subscriber</td>\n",
       "      <td>529871</td>\n",
       "    </tr>\n",
       "  </tbody>\n",
       "</table>\n",
       "</div>"
      ],
      "text/plain": [
       "  subscriber_type  num_trips\n",
       "0        Customer      30812\n",
       "1      Subscriber     529871"
      ]
     },
     "execution_count": 36,
     "metadata": {},
     "output_type": "execute_result"
    }
   ],
   "source": [
    "df_commuter_sub_type"
   ]
  },
  {
   "cell_type": "markdown",
   "metadata": {},
   "source": [
    "Next, to see what kind of trips the Customer riders were taking, the search was then broadened to observe the day of week distribution of the number of trips taken by Customers."
   ]
  },
  {
   "cell_type": "code",
   "execution_count": 37,
   "metadata": {},
   "outputs": [],
   "source": [
    " %%bigquery df_customers_by_dow\n",
    "\n",
    "SELECT EXTRACT(DAYOFWEEK FROM start_date) AS start_dow_int,\n",
    "    CASE EXTRACT(DAYOFWEEK FROM start_date)\n",
    "        WHEN 1 THEN \"Sunday\"\n",
    "        WHEN 2 THEN \"Monday\"\n",
    "        WHEN 3 THEN \"Tuesday\"\n",
    "        WHEN 4 THEN \"Wednesday\"\n",
    "        WHEN 5 THEN \"Thursday\"\n",
    "        WHEN 6 THEN \"Friday\"\n",
    "        WHEN 7 THEN \"Saturday\"\n",
    "        END AS start_dow_str,\n",
    "    COUNT(*) AS num_trips\n",
    "FROM `bigquery-public-data.san_francisco.bikeshare_trips`\n",
    "WHERE subscriber_type = \"Customer\"\n",
    "GROUP BY start_dow_str, start_dow_int\n",
    "ORDER BY start_dow_int;"
   ]
  },
  {
   "cell_type": "code",
   "execution_count": 38,
   "metadata": {},
   "outputs": [
    {
     "data": {
      "text/html": [
       "<div>\n",
       "<style scoped>\n",
       "    .dataframe tbody tr th:only-of-type {\n",
       "        vertical-align: middle;\n",
       "    }\n",
       "\n",
       "    .dataframe tbody tr th {\n",
       "        vertical-align: top;\n",
       "    }\n",
       "\n",
       "    .dataframe thead th {\n",
       "        text-align: right;\n",
       "    }\n",
       "</style>\n",
       "<table border=\"1\" class=\"dataframe\">\n",
       "  <thead>\n",
       "    <tr style=\"text-align: right;\">\n",
       "      <th></th>\n",
       "      <th>start_dow_int</th>\n",
       "      <th>start_dow_str</th>\n",
       "      <th>num_trips</th>\n",
       "    </tr>\n",
       "  </thead>\n",
       "  <tbody>\n",
       "    <tr>\n",
       "      <th>0</th>\n",
       "      <td>1</td>\n",
       "      <td>Sunday</td>\n",
       "      <td>25908</td>\n",
       "    </tr>\n",
       "    <tr>\n",
       "      <th>1</th>\n",
       "      <td>2</td>\n",
       "      <td>Monday</td>\n",
       "      <td>15142</td>\n",
       "    </tr>\n",
       "    <tr>\n",
       "      <th>2</th>\n",
       "      <td>3</td>\n",
       "      <td>Tuesday</td>\n",
       "      <td>14737</td>\n",
       "    </tr>\n",
       "    <tr>\n",
       "      <th>3</th>\n",
       "      <td>4</td>\n",
       "      <td>Wednesday</td>\n",
       "      <td>15237</td>\n",
       "    </tr>\n",
       "    <tr>\n",
       "      <th>4</th>\n",
       "      <td>5</td>\n",
       "      <td>Thursday</td>\n",
       "      <td>16612</td>\n",
       "    </tr>\n",
       "    <tr>\n",
       "      <th>5</th>\n",
       "      <td>6</td>\n",
       "      <td>Friday</td>\n",
       "      <td>19929</td>\n",
       "    </tr>\n",
       "    <tr>\n",
       "      <th>6</th>\n",
       "      <td>7</td>\n",
       "      <td>Saturday</td>\n",
       "      <td>29244</td>\n",
       "    </tr>\n",
       "  </tbody>\n",
       "</table>\n",
       "</div>"
      ],
      "text/plain": [
       "   start_dow_int start_dow_str  num_trips\n",
       "0              1        Sunday      25908\n",
       "1              2        Monday      15142\n",
       "2              3       Tuesday      14737\n",
       "3              4     Wednesday      15237\n",
       "4              5      Thursday      16612\n",
       "5              6        Friday      19929\n",
       "6              7      Saturday      29244"
      ]
     },
     "execution_count": 38,
     "metadata": {},
     "output_type": "execute_result"
    }
   ],
   "source": [
    "df_customers_by_dow"
   ]
  },
  {
   "cell_type": "markdown",
   "metadata": {},
   "source": [
    "This distribution of number of trips is plotted below as a bar chart, with the average number of trips across the week included as a line."
   ]
  },
  {
   "cell_type": "code",
   "execution_count": 69,
   "metadata": {},
   "outputs": [
    {
     "data": {
      "image/png": "[encoded data removed]",
      "text/plain": [
       "<Figure size 648x576 with 1 Axes>"
      ]
     },
     "metadata": {
      "needs_background": "light"
     },
     "output_type": "display_data"
    }
   ],
   "source": [
    "# Retrieve the labels, distribution, and average number of trips across the week \n",
    "dow = df_customers_by_dow['start_dow_str']\n",
    "num_trips = df_customers_by_dow['num_trips']\n",
    "avg_trips = np.mean(num_trips)\n",
    "x = np.arange(len(dow))\n",
    "\n",
    "# Create a separation of the bar charts\n",
    "above_threshold = np.maximum(num_trips - avg_trips, 0)\n",
    "below_threshold = np.minimum(num_trips, avg_trips)\n",
    "\n",
    "# Plot the above bars, below bars, and the average line\n",
    "plt.figure(figsize=(9,8))\n",
    "plt.bar(x, above_threshold, color=\"g\", bottom=below_threshold, label=\"Above average\")\n",
    "plt.bar(x, below_threshold, label=\"Below average\")\n",
    "plt.plot([min(x)-0.5, max(x)+0.5], [avg_trips, avg_trips], \"k--\", label=\"Average number of trips\")\n",
    "\n",
    "# Label the plot and show the legend\n",
    "plt.title(\"Distribution of Trips Taken by Customers by Day of the Week\")\n",
    "plt.ylabel(\"Number of Trips\")\n",
    "plt.xlim([min(x)-0.5, max(x)+0.5])\n",
    "plt.xticks(x, dow)\n",
    "plt.annotate(f\"{avg_trips:.0f}\", xy=(max(x)+0.5, avg_trips))\n",
    "plt.legend()\n",
    "\n",
    "plt.show()"
   ]
  },
  {
   "cell_type": "markdown",
   "metadata": {},
   "source": [
    "As can be seen from the distribution above, it is clear that trips taken by Customers occur most frequently on the weekend. Given the average number of trips per day of the week is at 19,544 trips, the number of trips for both Saturday and Sunday are both significantly higher. Therefore, it is likely that casual customers are more likely to take rides during the weekend. \n",
    "\n",
    "Thus, in order to convert these Customers into Subscribers, we can offer 5 free weekend bike rentals for every new rider who subscribes to the membership. This is will encourage Customers who tend to ride on the weekend to sign up for the subscription service, and with the added incentive may also lead to an increase of overall number of trips taken during the weekdays as well."
   ]
  },
  {
   "cell_type": "markdown",
   "metadata": {},
   "source": [
    "### Appendix - Code for creating BigQuery views/tables"
   ]
  },
  {
   "cell_type": "markdown",
   "metadata": {},
   "source": [
    "#### trip_dow_hour view\n",
    "\n",
    "A temporary view containg all bike trips with the TIMESTAMP variable in the `bikeshare_trips` table extracted as hour and day of week."
   ]
  },
  {
   "cell_type": "markdown",
   "metadata": {},
   "source": [
    "```sql\n",
    "SELECT trip_id, bike_number, \n",
    "    EXTRACT(DAYOFWEEK FROM start_date) AS start_dow_int,\n",
    "    CASE EXTRACT(DAYOFWEEK FROM start_date)\n",
    "        WHEN 1 THEN \"Sunday\"\n",
    "        WHEN 2 THEN \"Monday\"\n",
    "        WHEN 3 THEN \"Tuesday\"\n",
    "        WHEN 4 THEN \"Wednesday\"\n",
    "        WHEN 5 THEN \"Thursday\"\n",
    "        WHEN 6 THEN \"Friday\"\n",
    "        WHEN 7 THEN \"Saturday\"\n",
    "        END AS start_dow_str,\n",
    "    EXTRACT(HOUR FROM start_date) AS start_hour,\n",
    "    \n",
    "    EXTRACT(DAYOFWEEK FROM end_date) AS end_dow_int,\n",
    "    CASE EXTRACT(DAYOFWEEK FROM end_date)\n",
    "        WHEN 1 THEN \"Sunday\"\n",
    "        WHEN 2 THEN \"Monday\"\n",
    "        WHEN 3 THEN \"Tuesday\"\n",
    "        WHEN 4 THEN \"Wednesday\"\n",
    "        WHEN 5 THEN \"Thursday\"\n",
    "        WHEN 6 THEN \"Friday\"\n",
    "        WHEN 7 THEN \"Saturday\"\n",
    "        END AS end_dow_str,\n",
    "    EXTRACT(HOUR FROM end_date) AS end_hour,\n",
    "    start_station_name, start_station_id, end_station_name, end_station_id,\n",
    "FROM `bigquery-public-data.san_francisco.bikeshare_trips`\n",
    "ORDER BY trip_id;\n",
    "```"
   ]
  },
  {
   "cell_type": "markdown",
   "metadata": {},
   "source": [
    "#### trips_with_regions view\n",
    "\n",
    "A temporary view that combines bike trip information with station region information."
   ]
  },
  {
   "cell_type": "markdown",
   "metadata": {},
   "source": [
    "```sql \n",
    "SELECT trip_id, start_station_name, station_short_name, start_station_id, end_station_name, end_station_id, bike_number, region_id, region_name  FROM\n",
    "(SELECT *\n",
    "FROM `bigquery-public-data.san_francisco.bikeshare_trips`\n",
    "INNER JOIN `bike_trip_data.station_region` ON start_station_id = station_id)\n",
    "```"
   ]
  },
  {
   "cell_type": "markdown",
   "metadata": {},
   "source": [
    "#### station_region view\n",
    "\n",
    "A temporary view that combines station information with region information."
   ]
  },
  {
   "cell_type": "markdown",
   "metadata": {},
   "source": [
    "```sql \n",
    "SELECT station_id, short_name AS station_short_name, s.region_id, r.name AS region_name\n",
    "FROM `bigquery-public-data.san_francisco_bikeshare.bikeshare_station_info` s\n",
    "INNER JOIN `bigquery-public-data.san_francisco_bikeshare.bikeshare_regions` r ON s.region_id = r.region_id\n",
    "ORDER BY station_id;\n",
    "```"
   ]
  },
  {
   "cell_type": "markdown",
   "metadata": {},
   "source": [
    "#### commuter_trips view\n",
    "\n",
    "A temporary view that holds all bike trips that are considered to be a \"commuter trip\"."
   ]
  },
  {
   "cell_type": "markdown",
   "metadata": {},
   "source": [
    "```sql\n",
    "SELECT * FROM `w205-project-300900.bike_trip_data.trip_dow_hour` AS dow\n",
    "LEFT JOIN(\n",
    "    SELECT subscriber_type, trip_id \n",
    "    FROM `bigquery-public-data.san_francisco.bikeshare_trips`) AS trips\n",
    "USING(trip_id)\n",
    "WHERE start_dow_str IN ('Monday', 'Tuesday', 'Wednesday', 'Thursday', 'Friday') \n",
    "AND start_hour IN (7, 8, 9, 16, 17, 18);\n",
    "```"
   ]
  },
  {
   "cell_type": "markdown",
   "metadata": {},
   "source": [
    "#### station_status\n",
    "\n",
    "A temporary view that stores the bike and dock status of each station given that the station has atleast one bike or one dock available at the time when the station status is captured."
   ]
  },
  {
   "cell_type": "markdown",
   "metadata": {},
   "source": [
    "```sql \n",
    "SELECT station_id, bikes_available, docks_available,\n",
    "    EXTRACT(DAYOFWEEK FROM time) AS dow_int,\n",
    "    CASE EXTRACT(DAYOFWEEK FROM time)\n",
    "        WHEN 1 THEN \"Sunday\"\n",
    "        WHEN 2 THEN \"Monday\"\n",
    "        WHEN 3 THEN \"Tuesday\"\n",
    "        WHEN 4 THEN \"Wednesday\"\n",
    "        WHEN 5 THEN \"Thursday\"\n",
    "        WHEN 6 THEN \"Friday\"\n",
    "        WHEN 7 THEN \"Saturday\"\n",
    "        END AS dow_str,\n",
    "    EXTRACT(HOUR FROM time) AS hour,\n",
    "FROM `bigquery-public-data.san_francisco.bikeshare_status`\n",
    "WHERE bikes_available > 0 OR docks_available > 0\n",
    "ORDER BY station_id, dow_int;\n",
    "```"
   ]
  }
 ],
 "metadata": {
  "environment": {
   "name": "tf2-2-3-gpu.2-3.m59",
   "type": "gcloud",
   "uri": "gcr.io/deeplearning-platform-release/tf2-2-3-gpu.2-3:m59"
  },
  "kernelspec": {
   "display_name": "Python 3",
   "language": "python",
   "name": "python3"
  },
  "language_info": {
   "codemirror_mode": {
    "name": "ipython",
    "version": 3
   },
   "file_extension": ".py",
   "mimetype": "text/x-python",
   "name": "python",
   "nbconvert_exporter": "python",
   "pygments_lexer": "ipython3",
   "version": "3.7.8"
  }
 },
 "nbformat": 4,
 "nbformat_minor": 4
}
